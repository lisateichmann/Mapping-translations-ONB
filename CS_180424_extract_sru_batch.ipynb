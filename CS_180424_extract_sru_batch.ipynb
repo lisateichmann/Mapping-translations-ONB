{
 "cells": [
  {
   "cell_type": "code",
   "execution_count": null,
   "metadata": {},
   "outputs": [],
   "source": [
    "import requests\n",
    "from lxml import etree as et\n",
    "\n",
    "ns = {\n",
    "    'srw': 'http://www.loc.gov/zing/srw/'\n",
    "}\n",
    "sru_url = 'https://obv-at-oenb.alma.exlibrisgroup.com/view/sru/43ACC_ONB'\n",
    "p = {\n",
    "    'version': '1.2',\n",
    "    'operation': 'searchRetrieve',\n",
    "    'maximumRecords': 50\n",
    "}\n",
    "max_records = 50"
   ]
  },
  {
   "cell_type": "code",
   "execution_count": null,
   "metadata": {},
   "outputs": [],
   "source": [
    "params = p.copy()\n",
    "query = 'alma.national_bibliography_number=OeBC and alma.local_field_970=56 and alma.main_pub_date>2009'\n",
    "params['query'] = query\n",
    "params['startRecord'] = 1\n",
    "marc_results = []\n",
    "\n",
    "while params['startRecord']:\n",
    "    res = requests.get(sru_url, params=params)\n",
    "    root = et.fromstring(res.content)\n",
    "    marc_results += root.xpath('//srw:records/srw:record', namespaces=ns)\n",
    "    start_record = root.find('.//srw:nextRecordPosition', namespaces=ns)\n",
    "    num_results = int(root.find('.//srw:numberOfRecords', namespaces=ns).text)\n",
    "    if start_record != None:\n",
    "        start_record = int(start_record.text)\n",
    "    print(params['startRecord'], num_results, res.url)\n",
    "    params['startRecord'] = start_record\n",
    "\n",
    "results = et.Element('results')\n",
    "[results.append(r) for r in marc_results]\n",
    "\n",
    "et.ElementTree(results).write('marc_results.xml')"
   ]
  }
 ],
 "metadata": {
  "kernelspec": {
   "display_name": "Python 3",
   "language": "python",
   "name": "python3"
  },
  "language_info": {
   "codemirror_mode": {
    "name": "ipython",
    "version": 3
   },
   "file_extension": ".py",
   "mimetype": "text/x-python",
   "name": "python",
   "nbconvert_exporter": "python",
   "pygments_lexer": "ipython3",
   "version": "3.11.2"
  }
 },
 "nbformat": 4,
 "nbformat_minor": 2
}
