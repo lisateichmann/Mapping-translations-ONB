{
 "cells": [
  {
   "cell_type": "code",
   "execution_count": 1,
   "metadata": {},
   "outputs": [],
   "source": [
    "import requests\n",
    "import xml.etree.ElementTree as ET"
   ]
  },
  {
   "cell_type": "code",
   "execution_count": 2,
   "metadata": {},
   "outputs": [],
   "source": [
    "ns = {'marc': 'http://www.loc.gov/MARC21/slim', 'srw': 'http://www.loc.gov/zing/srw/'}\n",
    "marc_template = \"\"\"<marc:collection xmlns:marc=\"http://www.loc.gov/MARC21/slim\" \n",
    "        xmlns:xsi=\"http://www.w3.org/2001/XMLSchema-instance\" \n",
    "        xsi:schemaLocation=\"http://www.loc.gov/MARC21/slim http://www.loc.gov/standards/marcxml/schema/MARC21slim.xsd\"/>\"\"\"\n",
    "xml_records = ET.fromstring(marc_template)"
   ]
  },
  {
   "cell_type": "code",
   "execution_count": 3,
   "metadata": {},
   "outputs": [],
   "source": [
    "sru_request = \"https://obv-at-oenb.alma.exlibrisgroup.com/view/sru/43ACC_ONB?version=1.2&query=alma.national_bibliography_number=OeBC%20and%20alma.local_field_970=56%20and%20alma.%20main_pub_date%3E2009&operation=searchRetrieve&startRecord={offset}&maximumRecords=50\"\n",
    "offset = 1"
   ]
  },
  {
   "cell_type": "code",
   "execution_count": 4,
   "metadata": {},
   "outputs": [],
   "source": [
    "res = requests.get(sru_request.format(offset=offset))"
   ]
  },
  {
   "cell_type": "code",
   "execution_count": 5,
   "metadata": {},
   "outputs": [],
   "source": [
    "res_xml = ET.fromstring(res.text)"
   ]
  },
  {
   "cell_type": "code",
   "execution_count": 6,
   "metadata": {},
   "outputs": [
    {
     "name": "stdout",
     "output_type": "stream",
     "text": [
      "9904\n"
     ]
    }
   ],
   "source": [
    "numberOfRecords = int(res_xml.find(\"srw:numberOfRecords\", ns).text)\n",
    "print(numberOfRecords)"
   ]
  },
  {
   "cell_type": "code",
   "execution_count": 7,
   "metadata": {},
   "outputs": [],
   "source": [
    "for record in res_xml.findall('.//marc:record', ns):\n",
    "    xml_records.append(record)"
   ]
  },
  {
   "cell_type": "code",
   "execution_count": 8,
   "metadata": {},
   "outputs": [],
   "source": [
    "# while offset < numberOfRecords - 50:\n",
    "#     offset += 50\n",
    "#     print(offset, \" \")\n",
    "#     res = requests.get(sru_request.format(offset=offset))\n",
    "#     res_xml = ET.fromstring(res.text)\n",
    "#     # add the records to the record list\n",
    "#     for record in res_xml.findall('.//marc:record', ns):\n",
    "#         xml_records.append(record)"
   ]
  },
  {
   "cell_type": "code",
   "execution_count": 21,
   "metadata": {},
   "outputs": [
    {
     "ename": "SyntaxError",
     "evalue": "prefix 'ns0' not found in prefix map (<string>)",
     "output_type": "error",
     "traceback": [
      "Traceback \u001b[0;36m(most recent call last)\u001b[0m:\n",
      "  File \u001b[1;32m\"/Users/pulsatilla/opt/anaconda3/lib/python3.9/site-packages/IPython/core/interactiveshell.py\"\u001b[0m, line \u001b[1;32m3444\u001b[0m, in \u001b[1;35mrun_code\u001b[0m\n    exec(code_obj, self.user_global_ns, self.user_ns)\n",
      "  File \u001b[1;32m\"/var/folders/vk/bmtds1lj3sb5yqxll664dvwr0000gn/T/ipykernel_10404/3866250990.py\"\u001b[0m, line \u001b[1;32m1\u001b[0m, in \u001b[1;35m<module>\u001b[0m\n    xml_records.findall(\".//ns0:record/ns0:datafield[@tag='41']/ns0:subfield[@code='h']/text()\")\n",
      "  File \u001b[1;32m\"/Users/pulsatilla/opt/anaconda3/lib/python3.9/xml/etree/ElementPath.py\"\u001b[0m, line \u001b[1;32m395\u001b[0m, in \u001b[1;35mfindall\u001b[0m\n    return list(iterfind(elem, path, namespaces))\n",
      "  File \u001b[1;32m\"/Users/pulsatilla/opt/anaconda3/lib/python3.9/xml/etree/ElementPath.py\"\u001b[0m, line \u001b[1;32m368\u001b[0m, in \u001b[1;35miterfind\u001b[0m\n    selector.append(ops[token[0]](next, token))\n",
      "  File \u001b[1;32m\"/Users/pulsatilla/opt/anaconda3/lib/python3.9/xml/etree/ElementPath.py\"\u001b[0m, line \u001b[1;32m184\u001b[0m, in \u001b[1;35mprepare_descendant\u001b[0m\n    token = next()\n",
      "\u001b[0;36m  File \u001b[0;32m\"/Users/pulsatilla/opt/anaconda3/lib/python3.9/xml/etree/ElementPath.py\"\u001b[0;36m, line \u001b[0;32m86\u001b[0;36m, in \u001b[0;35mxpath_tokenizer\u001b[0;36m\u001b[0m\n\u001b[0;31m    raise SyntaxError(\"prefix %r not found in prefix map\" % prefix) from None\u001b[0m\n",
      "\u001b[0;36m  File \u001b[0;32m\"<string>\"\u001b[0;36m, line \u001b[0;32munknown\u001b[0m\n\u001b[0;31mSyntaxError\u001b[0m\u001b[0;31m:\u001b[0m prefix 'ns0' not found in prefix map\n"
     ]
    }
   ],
   "source": [
    "xml_records.findall(\".//ns0:record/ns0:datafield[@tag='41']/ns0:subfield[@code='h']/text()\")"
   ]
  },
  {
   "cell_type": "code",
   "execution_count": 9,
   "metadata": {},
   "outputs": [],
   "source": [
    "# xml_string = ET.tostring(xml_records)\n",
    "# with open(\"oenb_2009.xml\", \"wb\") as f:\n",
    "#     f.write(xml_string)"
   ]
  }
 ],
 "metadata": {
  "kernelspec": {
   "display_name": "Python 3 (ipykernel)",
   "language": "python",
   "name": "python3"
  },
  "language_info": {
   "codemirror_mode": {
    "name": "ipython",
    "version": 3
   },
   "file_extension": ".py",
   "mimetype": "text/x-python",
   "name": "python",
   "nbconvert_exporter": "python",
   "pygments_lexer": "ipython3",
   "version": "3.9.7"
  }
 },
 "nbformat": 4,
 "nbformat_minor": 2
}
