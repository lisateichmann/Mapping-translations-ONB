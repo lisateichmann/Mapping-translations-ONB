{
 "cells": [
  {
   "cell_type": "code",
   "execution_count": 1,
   "metadata": {},
   "outputs": [],
   "source": [
    "import requests\n",
    "import xml.etree.ElementTree as ET\n",
    "import pandas as pd\n",
    "from bs4 import BeautifulSoup\n",
    "from lxml import etree\n",
    "import unicodedata\n",
    "import io"
   ]
  },
  {
   "cell_type": "code",
   "execution_count": 2,
   "metadata": {},
   "outputs": [],
   "source": [
    "ns = {'marc': 'http://www.loc.gov/MARC21/slim', 'srw': 'http://www.loc.gov/zing/srw/'}\n",
    "marc_template = \"\"\"<marc:collection xmlns:marc=\"http://www.loc.gov/MARC21/slim\" \n",
    "        xmlns:xsi=\"http://www.w3.org/2001/XMLSchema-instance\" \n",
    "        xsi:schemaLocation=\"http://www.loc.gov/MARC21/slim http://www.loc.gov/standards/marcxml/schema/MARC21slim.xsd\"/>\"\"\"\n",
    "xml_records = ET.fromstring(marc_template)"
   ]
  },
  {
   "cell_type": "code",
   "execution_count": 3,
   "metadata": {},
   "outputs": [],
   "source": [
    "sru_request = \"https://obv-at-oenb.alma.exlibrisgroup.com/view/sru/43ACC_ONB?version=1.2&query=alma.national_bibliography_number=OeBC%20and%20alma.local_field_970=56%20and%20alma.%20main_pub_date%3E2009&operation=searchRetrieve&startRecord={offset}&maximumRecords=50\"\n",
    "offset = 1"
   ]
  },
  {
   "cell_type": "code",
   "execution_count": 4,
   "metadata": {},
   "outputs": [],
   "source": [
    "res = requests.get(sru_request.format(offset=offset))"
   ]
  },
  {
   "cell_type": "code",
   "execution_count": 5,
   "metadata": {},
   "outputs": [],
   "source": [
    "res_xml = ET.fromstring(res.text)"
   ]
  },
  {
   "cell_type": "code",
   "execution_count": 6,
   "metadata": {},
   "outputs": [
    {
     "name": "stdout",
     "output_type": "stream",
     "text": [
      "9906\n"
     ]
    }
   ],
   "source": [
    "numberOfRecords = int(res_xml.find(\"srw:numberOfRecords\", ns).text)\n",
    "print(numberOfRecords)"
   ]
  },
  {
   "cell_type": "code",
   "execution_count": 7,
   "metadata": {},
   "outputs": [],
   "source": [
    "for record in res_xml.findall('.//marc:record', ns):\n",
    "    xml_records.append(record)"
   ]
  },
  {
   "cell_type": "code",
   "execution_count": 8,
   "metadata": {},
   "outputs": [],
   "source": [
    "# while offset < numberOfRecords - 50:\n",
    "#     offset += 50\n",
    "#     print(offset, \" \")\n",
    "#     res = requests.get(sru_request.format(offset=offset))\n",
    "#     res_xml = ET.fromstring(res.text)\n",
    "#     # add the records to the record list\n",
    "#     for record in res_xml.findall('.//marc:record', ns):\n",
    "#         xml_records.append(record)"
   ]
  },
  {
   "cell_type": "code",
   "execution_count": 9,
   "metadata": {},
   "outputs": [
    {
     "data": {
      "text/plain": [
       "[<Element '{http://www.loc.gov/MARC21/slim}subfield' at 0x7fc3f00a9950>,\n",
       " <Element '{http://www.loc.gov/MARC21/slim}subfield' at 0x7fc3f00b9130>,\n",
       " <Element '{http://www.loc.gov/MARC21/slim}subfield' at 0x7fc3f00c7e50>,\n",
       " <Element '{http://www.loc.gov/MARC21/slim}subfield' at 0x7fc3f00da8b0>,\n",
       " <Element '{http://www.loc.gov/MARC21/slim}subfield' at 0x7fc3e002ed60>,\n",
       " <Element '{http://www.loc.gov/MARC21/slim}subfield' at 0x7fc3e0044a90>,\n",
       " <Element '{http://www.loc.gov/MARC21/slim}subfield' at 0x7fc3c002acc0>,\n",
       " <Element '{http://www.loc.gov/MARC21/slim}subfield' at 0x7fc3c003e540>,\n",
       " <Element '{http://www.loc.gov/MARC21/slim}subfield' at 0x7fc4101e43b0>,\n",
       " <Element '{http://www.loc.gov/MARC21/slim}subfield' at 0x7fc410270f40>,\n",
       " <Element '{http://www.loc.gov/MARC21/slim}subfield' at 0x7fc4102c04f0>,\n",
       " <Element '{http://www.loc.gov/MARC21/slim}subfield' at 0x7fc41030b040>,\n",
       " <Element '{http://www.loc.gov/MARC21/slim}subfield' at 0x7fc410334450>]"
      ]
     },
     "execution_count": 9,
     "metadata": {},
     "output_type": "execute_result"
    }
   ],
   "source": [
    "xml_records.findall('.//marc:record/marc:datafield[@tag=\"041\"]/marc:subfield[@code=\"h\"]', namespaces=ns)"
   ]
  },
  {
   "cell_type": "code",
   "execution_count": 9,
   "metadata": {},
   "outputs": [],
   "source": [
    "# xml_string = ET.tostring(xml_records)\n",
    "# with open(\"oenb_2009.xml\", \"wb\") as f:\n",
    "#     f.write(xml_string)"
   ]
  },
  {
   "cell_type": "code",
   "execution_count": null,
   "metadata": {},
   "outputs": [],
   "source": []
  }
 ],
 "metadata": {
  "kernelspec": {
   "display_name": "Python 3 (ipykernel)",
   "language": "python",
   "name": "python3"
  },
  "language_info": {
   "codemirror_mode": {
    "name": "ipython",
    "version": 3
   },
   "file_extension": ".py",
   "mimetype": "text/x-python",
   "name": "python",
   "nbconvert_exporter": "python",
   "pygments_lexer": "ipython3",
   "version": "3.9.7"
  }
 },
 "nbformat": 4,
 "nbformat_minor": 2
}
